{
 "cells": [
  {
   "cell_type": "markdown",
   "metadata": {},
   "source": [
    "# The Battle of Neighborhoods | Business Problem | Introduction"
   ]
  },
  {
   "cell_type": "markdown",
   "metadata": {},
   "source": [
    "Penang, the city the author lives in, is a Malaysian state located on the northwest coast of Peninsular Malaysia, by the Malacca Strait, attracts a large number of tourists every year.\n",
    "For tourists, finding the right place to eat and hang around can be a challenge, though. Some crave for delicious food while other may prefer sightseeing.\n",
    "Thus, with this exercise, I wanted to give a simple reference and recommendation to tourists in Penang.\n",
    "Which district in Penang should food hunter visit? Which areas are best for coffee lovers? If a tourist like sunbath a lot, which hotel should he/she stays?"
   ]
  },
  {
   "cell_type": "markdown",
   "metadata": {},
   "source": [
    "# Data Description\n",
    "\n",
    "\n",
    "## Foursquare API:\n",
    "This project would use Four-square API as its prime data gathering source as it has a database of millions of places, especially their places API which provides the ability to perform location search, location sharing and details about a business.  \n",
    "\n",
    "\n",
    "As requested by the assignment task, use foursquare data about Penang Northeast Region. I will use foursquare data such as the venue name, ID, location and category(vegetarian, Italian etc.).\n",
    "\n",
    "Also, I will use the overview of districts/city parts of Northeast Penang from Wikipedia: https://en.wikipedia.org/wiki/Northeast_Penang_Island_District"
   ]
  },
  {
   "cell_type": "code",
   "execution_count": null,
   "metadata": {},
   "outputs": [],
   "source": []
  }
 ],
 "metadata": {
  "kernelspec": {
   "display_name": "Python 3",
   "language": "python",
   "name": "python3"
  },
  "language_info": {
   "codemirror_mode": {
    "name": "ipython",
    "version": 3
   },
   "file_extension": ".py",
   "mimetype": "text/x-python",
   "name": "python",
   "nbconvert_exporter": "python",
   "pygments_lexer": "ipython3",
   "version": "3.8.3"
  }
 },
 "nbformat": 4,
 "nbformat_minor": 4
}
